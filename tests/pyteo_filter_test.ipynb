{
 "cells": [
  {
   "cell_type": "markdown",
   "source": [
    "# Example 3: Search engines and PSM filtering"
   ],
   "metadata": {
    "collapsed": false,
    "pycharm": {
     "name": "#%% md\n"
    }
   }
  },
  {
   "cell_type": "markdown",
   "source": [
    "In this example we are going to parse the output of several search engines and see what we can do with it using **pyteomics**. We are going to need several major dependencies of **pyteomics**: **lxml**, **numpy**, **matplotlib** and **pandas**.\n",
    "\n",
    "The files used in this example can be downloaded from http://pubdata.theorchromo.ru/pyteomics_filtering_example/. The directory contains output files from several search engines: X!Tandem, MS Amanda, Morpheus, MS-GF+. All search engines were fed the same spectra. The results do not serve for performance comparison of these search engines, but for illustration of data handling with **pyteomics**.\n",
    "\n",
    "The data set was kindly provided by Simion Kreimer at Northeastern University in Boston.\n",
    "\n",
    "Let's start with setting up the imports:"
   ],
   "metadata": {
    "collapsed": false,
    "pycharm": {
     "name": "#%% md\n"
    }
   }
  },
  {
   "cell_type": "code",
   "execution_count": null,
   "outputs": [],
   "source": [
    "import pylab\n",
    "from pyteomics import tandem, pepxml, mzid, auxiliary as aux, pylab_aux as pa\n",
    "import pandas as pd\n",
    "import numpy as np"
   ],
   "metadata": {
    "collapsed": false,
    "pycharm": {
     "name": "#%%\n"
    }
   }
  },
  {
   "cell_type": "markdown",
   "source": [
    "Now, let's read an X!Tandem file using `tandem.read()` and build a histogram of retention times for identified spectra. Then, let's do the same for spectra passing the 1% FDR threshold, by using `tandem.filter()`."
   ],
   "metadata": {
    "collapsed": false,
    "pycharm": {
     "name": "#%% md\n"
    }
   }
  },
  {
   "cell_type": "code",
   "execution_count": null,
   "outputs": [],
   "source": [
    "# switch to directory with data\n",
    "%cd example3\n",
    "pylab.style.use('seaborn-darkgrid')"
   ],
   "metadata": {
    "collapsed": false,
    "pycharm": {
     "name": "#%%\n"
    }
   }
  },
  {
   "cell_type": "code",
   "execution_count": null,
   "outputs": [],
   "source": [
    "with tandem.read('example.t.xml') as tf:\n",
    "    h = pylab.hist([psm['rt'] / 60 for psm in tf], bins=25, label='All IDs')\n",
    "with tandem.filter('example.t.xml', fdr=0.01, full_output=False) as ftf:\n",
    "    pylab.hist([psm['rt'] / 60 for psm in ftf], bins=h[1], label='1% FDR')\n",
    "pylab.xlabel('RT, min')\n",
    "pylab.legend()"
   ],
   "metadata": {
    "collapsed": false,
    "pycharm": {
     "name": "#%%\n"
    }
   }
  },
  {
   "cell_type": "markdown",
   "source": [
    "The `filter()` functions can be used in the same way as `read()` functions (as a context manager). That is done by specifying `full_output=False`. The benefit of this is lower memory usage when parsing XML files. The downside, however, is that parsing occurs twice, affecting the execution time. That's why the default behavior of `filter()` is simply to return an array of PSMs:"
   ],
   "metadata": {
    "collapsed": false,
    "pycharm": {
     "name": "#%% md\n"
    }
   }
  },
  {
   "cell_type": "code",
   "execution_count": null,
   "outputs": [],
   "source": [
    "%%time\n",
    "ftf = tandem.filter('example.t.xml', fdr=0.01)\n",
    "rts = [psm['rt'] / 60 for psm in ftf]"
   ],
   "metadata": {
    "collapsed": false,
    "pycharm": {
     "name": "#%%\n"
    }
   }
  },
  {
   "cell_type": "code",
   "execution_count": null,
   "outputs": [],
   "source": [
    "%%time\n",
    "with tandem.filter('example.t.xml', fdr=0.01, full_output=False) as ftf:\n",
    "   rts = [psm['rt'] / 60 for psm in ftf]"
   ],
   "metadata": {
    "collapsed": false,
    "pycharm": {
     "name": "#%%\n"
    }
   }
  },
  {
   "cell_type": "markdown",
   "source": [
    "Another way would be to build a `pandas.DataFrame` object and access its columns. This enables you to write concise and efficient code. The `tandem` and `pepxml` modules define the functions `DataFrame()` and `filter_df()`, analogous to `read()` and `filter()`."
   ],
   "metadata": {
    "collapsed": false,
    "pycharm": {
     "name": "#%% md\n"
    }
   }
  },
  {
   "cell_type": "code",
   "execution_count": null,
   "outputs": [],
   "source": [
    "%%time\n",
    "ftf = tandem.filter_df('example.t.xml', fdr=0.01)\n",
    "rts = ftf['rt']"
   ],
   "metadata": {
    "collapsed": false,
    "pycharm": {
     "name": "#%%\n"
    }
   }
  },
  {
   "cell_type": "markdown",
   "source": [
    "A function closely related to `filter()`, `qvalues()`, calculates q-values for all PSMs in a set. `filter()` uses it internally to determine where to set the threshold."
   ],
   "metadata": {
    "collapsed": false,
    "pycharm": {
     "name": "#%% md\n"
    }
   }
  },
  {
   "cell_type": "code",
   "execution_count": null,
   "outputs": [],
   "source": [
    "q1 = pepxml.qvalues('example.pep.xml', read_schema=False,\n",
    "                    key=lambda x: x['search_hit'][0]['search_score']['Morpheus Score'], reverse=True)\n",
    "q2 = tandem.qvalues('example.t.xml')\n",
    "\n",
    "pa.plot_qvalue_curve(q1['q'], label='Morpheus')\n",
    "pa.plot_qvalue_curve(q2['q'], label='X!Tandem')\n",
    "pylab.legend()"
   ],
   "metadata": {
    "collapsed": false,
    "pycharm": {
     "name": "#%%\n"
    }
   }
  },
  {
   "cell_type": "markdown",
   "source": [
    "The `mzid` module also provides `qvalues()` and `filter()` functions."
   ],
   "metadata": {
    "collapsed": false,
    "pycharm": {
     "name": "#%% md\n"
    }
   }
  },
  {
   "cell_type": "code",
   "execution_count": null,
   "outputs": [],
   "source": [
    "msgf = mzid.filter('example.mzid', retrieve_refs=True,\n",
    "                   key=lambda x: x['SpectrumIdentificationItem'][0]['MS-GF:EValue'], fdr=0.01)\n",
    "pylab.hist([psm['SpectrumIdentificationItem'][0]['chargeState'] for psm in msgf], bins=np.arange(5), align='left')\n",
    "pylab.xticks(np.linspace(0, 4, 5))\n",
    "pylab.xlabel('charge state')"
   ],
   "metadata": {
    "collapsed": false,
    "pycharm": {
     "name": "#%%\n"
    }
   }
  },
  {
   "cell_type": "markdown",
   "source": [
    "`pyteomics.auxiliary` provides generic functions `qvalues()` and `filter()` that you can use on any objects representing PSMs. They accept iterables of PSMs (lists, iterators, arrays, DataFrames).\n",
    "\n",
    "The q-values are calculated using standard target-decoy approach or using posterior error probabilities, if they are provided. With TDA, you need to provide a way to determine the score of a PSM, and whether it is decoy or not. You can do that by passing a function or an array of values. With structured arrays and DataFrames, however, you can simply provide a column / field label. Let's see how easy it is to use `filter()` on the output of Morpheus and MS Amanda using `pandas`."
   ],
   "metadata": {
    "collapsed": false,
    "pycharm": {
     "name": "#%% md\n"
    }
   }
  },
  {
   "cell_type": "code",
   "execution_count": null,
   "outputs": [],
   "source": [
    "# read the files into DataFrames\n",
    "morpheus = pd.read_table('example.PSMs.tsv')\n",
    "amanda = pd.read_table('example_output.csv', skiprows=1)"
   ],
   "metadata": {
    "collapsed": false,
    "pycharm": {
     "name": "#%%\n"
    }
   }
  },
  {
   "cell_type": "code",
   "execution_count": null,
   "outputs": [],
   "source": [
    "# filter the Morpheus DataFrame\n",
    "morph_filt = aux.filter(morpheus, fdr=0.01, key='Morpheus Score', reverse=True, is_decoy='Decoy?')"
   ],
   "metadata": {
    "collapsed": false,
    "pycharm": {
     "name": "#%%\n"
    }
   }
  },
  {
   "cell_type": "code",
   "execution_count": null,
   "outputs": [],
   "source": [
    "# do some analysis\n",
    "morph_filt.plot(x='Retention Time (minutes)', y='Precursor Mass (Da)', kind='scatter')"
   ],
   "metadata": {
    "collapsed": false,
    "pycharm": {
     "name": "#%%\n"
    }
   }
  },
  {
   "cell_type": "code",
   "execution_count": null,
   "outputs": [],
   "source": [
    "# MS Amanda files don't have a \"decoy\" column, so let's create one and then use it\n",
    "amanda['isDecoy'] = amanda['Protein Accessions'].str.split(';').apply(\n",
    "    lambda x: all(p.startswith('DECOY') for p in x))\n",
    "amanda_filt = aux.filter(amanda[amanda['Rank'] == 1], key='Weighted Probability', is_decoy='isDecoy', fdr=0.01)"
   ],
   "metadata": {
    "collapsed": false,
    "pycharm": {
     "name": "#%%\n"
    }
   }
  },
  {
   "cell_type": "markdown",
   "source": [
    "Wasn't that easy? It is also efficient, because we don't need to parse XML, and the calculations are vectorized by `pandas`.\n",
    "\n",
    "Now we have our filtered DataFrames. We can do something using the awesome `pandas` functionality. For example, let's convert these filtered PSM lists to peptide lists."
   ],
   "metadata": {
    "collapsed": false,
    "pycharm": {
     "name": "#%% md\n"
    }
   }
  },
  {
   "cell_type": "code",
   "execution_count": null,
   "outputs": [],
   "source": [
    "amanda_pep = amanda_filt.sort_values('Weighted Probability').groupby('Sequence').first()\n",
    "morph_pep = morph_filt.sort_values('Q-Value (%)').groupby('Base Peptide Sequence').first()"
   ],
   "metadata": {
    "collapsed": false,
    "pycharm": {
     "name": "#%%\n"
    }
   }
  },
  {
   "cell_type": "markdown",
   "source": [
    "That's it! Now, why don't we look at peptides present in both lists? Peace of cake for `pandas`, too:"
   ],
   "metadata": {
    "collapsed": false,
    "pycharm": {
     "name": "#%% md\n"
    }
   }
  },
  {
   "cell_type": "code",
   "execution_count": null,
   "outputs": [],
   "source": [
    "inter = amanda_pep.join(morph_pep, how='inner', lsuffix='[amanda]', rsuffix='[morpheus]')"
   ],
   "metadata": {
    "collapsed": false,
    "pycharm": {
     "name": "#%%\n"
    }
   }
  },
  {
   "cell_type": "markdown",
   "source": [
    "`inter` is now a DataFrame with all information from both tables (and that's a lot)."
   ],
   "metadata": {
    "collapsed": false,
    "pycharm": {
     "name": "#%% md\n"
    }
   }
  },
  {
   "cell_type": "code",
   "execution_count": null,
   "outputs": [],
   "source": [
    "inter.plot('Amanda Score', 'Morpheus Score', kind='hexbin', gridsize=10, sharex=False)"
   ],
   "metadata": {
    "collapsed": false,
    "pycharm": {
     "name": "#%%\n"
    }
   }
  },
  {
   "cell_type": "markdown",
   "source": [
    "We will conclude this example with a reminder that if you have a piece of software that reports posterior error probabilities (PEPs), `qvalues()` and `filter()` can use them instead of relying on TDA. The usage is similar: you just provide a `pep` parameter instead of `is_decoy`. `key` is not needed in this case, too. Complete information about possible parameters can be found in the API docs."
   ],
   "metadata": {
    "collapsed": false,
    "pycharm": {
     "name": "#%% md\n"
    }
   }
  },
  {
   "cell_type": "markdown",
   "metadata": {},
   "source": [
    "In this example we are going to parse the output of several search engines and see what we can do with it using **pyteomics**. We are going to need several major dependencies of **pyteomics**: **lxml**, **numpy**, **matplotlib** and **pandas**.\n",
    "\n",
    "The files used in this example can be downloaded from http://pubdata.theorchromo.ru/pyteomics_filtering_example/. The directory contains output files from several search engines: X!Tandem, MS Amanda, Morpheus, MS-GF+. All search engines were fed the same spectra. The results do not serve for performance comparison of these search engines, but for illustration of data handling with **pyteomics**.\n",
    "\n",
    "The data set was kindly provided by Simion Kreimer at Northeastern University in Boston.\n",
    "\n",
    "Let's start with setting up the imports:"
   ]
  },
  {
   "cell_type": "code",
   "execution_count": 1,
   "metadata": {},
   "outputs": [],
   "source": [
    "import pylab\n",
    "from pyteomics import tandem, pepxml, mzid, auxiliary as aux, pylab_aux as pa\n",
    "import pandas as pd\n",
    "import numpy as np"
   ]
  },
  {
   "cell_type": "markdown",
   "metadata": {},
   "source": [
    "Now, let's read an X!Tandem file using `tandem.read()` and build a histogram of retention times for identified spectra. Then, let's do the same for spectra passing the 1% FDR threshold, by using `tandem.filter()`."
   ]
  },
  {
   "cell_type": "code",
   "execution_count": 2,
   "metadata": {
    "collapsed": true
   },
   "outputs": [
    {
     "name": "stdout",
     "output_type": "stream",
     "text": [
      "/home/user/pyteomics_examples/example3\n"
     ]
    }
   ],
   "source": [
    "# switch to directory with data\n",
    "%cd example3\n",
    "pylab.style.use('seaborn-darkgrid')"
   ]
  },
  {
   "cell_type": "code",
   "execution_count": 3,
   "metadata": {},
   "outputs": [
    {
     "data": {
      "text/plain": [
       "<matplotlib.legend.Legend at 0x7fc571e00f60>"
      ]
     },
     "execution_count": 3,
     "metadata": {},
     "output_type": "execute_result"
    },
    {
     "data": {
      "image/png": "[encoded data removed]",
      "text/plain": [
       "<Figure size 432x288 with 1 Axes>"
      ]
     },
     "metadata": {},
     "output_type": "display_data"
    }
   ],
   "source": [
    "with tandem.read('example.t.xml') as tf:\n",
    "    h = pylab.hist([psm['rt'] / 60 for psm in tf], bins=25, label='All IDs')\n",
    "with tandem.filter('example.t.xml', fdr=0.01, full_output=False) as ftf:\n",
    "    pylab.hist([psm['rt'] / 60 for psm in ftf], bins=h[1], label='1% FDR')\n",
    "pylab.xlabel('RT, min')\n",
    "pylab.legend()"
   ]
  },
  {
   "cell_type": "markdown",
   "metadata": {},
   "source": [
    "The `filter()` functions can be used in the same way as `read()` functions (as a context manager). That is done by specifying `full_output=False`. The benefit of this is lower memory usage when parsing XML files. The downside, however, is that parsing occurs twice, affecting the execution time. That's why the default behavior of `filter()` is simply to return an array of PSMs:"
   ]
  },
  {
   "cell_type": "code",
   "execution_count": 4,
   "metadata": {},
   "outputs": [
    {
     "name": "stdout",
     "output_type": "stream",
     "text": [
      "CPU times: user 13.1 s, sys: 185 ms, total: 13.3 s\n",
      "Wall time: 13.3 s\n"
     ]
    }
   ],
   "source": [
    "%%time\n",
    "ftf = tandem.filter('example.t.xml', fdr=0.01)\n",
    "rts = [psm['rt'] / 60 for psm in ftf]"
   ]
  },
  {
   "cell_type": "code",
   "execution_count": 5,
   "metadata": {
    "scrolled": true
   },
   "outputs": [
    {
     "name": "stdout",
     "output_type": "stream",
     "text": [
      "CPU times: user 19 s, sys: 46.6 ms, total: 19 s\n",
      "Wall time: 19.1 s\n"
     ]
    }
   ],
   "source": [
    "%%time\n",
    "with tandem.filter('example.t.xml', fdr=0.01, full_output=False) as ftf:\n",
    "   rts = [psm['rt'] / 60 for psm in ftf]"
   ]
  },
  {
   "cell_type": "markdown",
   "metadata": {},
   "source": [
    "Another way would be to build a `pandas.DataFrame` object and access its columns. This enables you to write concise and efficient code. The `tandem` and `pepxml` modules define the functions `DataFrame()` and `filter_df()`, analogous to `read()` and `filter()`."
   ]
  },
  {
   "cell_type": "code",
   "execution_count": 6,
   "metadata": {},
   "outputs": [
    {
     "name": "stdout",
     "output_type": "stream",
     "text": [
      "CPU times: user 13 s, sys: 42.8 ms, total: 13 s\n",
      "Wall time: 13.1 s\n"
     ]
    }
   ],
   "source": [
    "%%time\n",
    "ftf = tandem.filter_df('example.t.xml', fdr=0.01)\n",
    "rts = ftf['rt']"
   ]
  },
  {
   "cell_type": "markdown",
   "metadata": {},
   "source": [
    "A function closely related to `filter()`, `qvalues()`, calculates q-values for all PSMs in a set. `filter()` uses it internally to determine where to set the threshold."
   ]
  },
  {
   "cell_type": "code",
   "execution_count": 7,
   "metadata": {},
   "outputs": [
    {
     "data": {
      "text/plain": [
       "<matplotlib.legend.Legend at 0x7fc571c656d8>"
      ]
     },
     "execution_count": 7,
     "metadata": {},
     "output_type": "execute_result"
    },
    {
     "data": {
      "image/png": "[encoded data removed]",
      "text/plain": [
       "<Figure size 432x288 with 1 Axes>"
      ]
     },
     "metadata": {},
     "output_type": "display_data"
    }
   ],
   "source": [
    "q1 = pepxml.qvalues('example.pep.xml', read_schema=False,\n",
    "                    key=lambda x: x['search_hit'][0]['search_score']['Morpheus Score'], reverse=True)\n",
    "q2 = tandem.qvalues('example.t.xml')\n",
    "\n",
    "pa.plot_qvalue_curve(q1['q'], label='Morpheus')\n",
    "pa.plot_qvalue_curve(q2['q'], label='X!Tandem')\n",
    "pylab.legend()"
   ]
  },
  {
   "cell_type": "markdown",
   "metadata": {},
   "source": [
    "The `mzid` module also provides `qvalues()` and `filter()` functions."
   ]
  },
  {
   "cell_type": "code",
   "execution_count": 8,
   "metadata": {},
   "outputs": [
    {
     "data": {
      "text/plain": [
       "Text(0.5, 0, 'charge state')"
      ]
     },
     "execution_count": 8,
     "metadata": {},
     "output_type": "execute_result"
    },
    {
     "data": {
      "image/png": "[encoded data removed]",
      "text/plain": [
       "<Figure size 432x288 with 1 Axes>"
      ]
     },
     "metadata": {},
     "output_type": "display_data"
    }
   ],
   "source": [
    "msgf = mzid.filter('example.mzid', retrieve_refs=True,\n",
    "                   key=lambda x: x['SpectrumIdentificationItem'][0]['MS-GF:EValue'], fdr=0.01)\n",
    "pylab.hist([psm['SpectrumIdentificationItem'][0]['chargeState'] for psm in msgf], bins=np.arange(5), align='left')\n",
    "pylab.xticks(np.linspace(0, 4, 5))\n",
    "pylab.xlabel('charge state')"
   ]
  },
  {
   "cell_type": "markdown",
   "metadata": {},
   "source": [
    "`pyteomics.auxiliary` provides generic functions `qvalues()` and `filter()` that you can use on any objects representing PSMs. They accept iterables of PSMs (lists, iterators, arrays, DataFrames).\n",
    "\n",
    "The q-values are calculated using standard target-decoy approach or using posterior error probabilities, if they are provided. With TDA, you need to provide a way to determine the score of a PSM, and whether it is decoy or not. You can do that by passing a function or an array of values. With structured arrays and DataFrames, however, you can simply provide a column / field label. Let's see how easy it is to use `filter()` on the output of Morpheus and MS Amanda using `pandas`."
   ]
  },
  {
   "cell_type": "code",
   "execution_count": 9,
   "metadata": {},
   "outputs": [],
   "source": [
    "# read the files into DataFrames\n",
    "morpheus = pd.read_table('example.PSMs.tsv')\n",
    "amanda = pd.read_table('example_output.csv', skiprows=1)"
   ]
  },
  {
   "cell_type": "code",
   "execution_count": 10,
   "metadata": {},
   "outputs": [],
   "source": [
    "# filter the Morpheus DataFrame\n",
    "morph_filt = aux.filter(morpheus, fdr=0.01, key='Morpheus Score', reverse=True, is_decoy='Decoy?')"
   ]
  },
  {
   "cell_type": "code",
   "execution_count": 11,
   "metadata": {},
   "outputs": [
    {
     "data": {
      "text/plain": [
       "<AxesSubplot:xlabel='Retention Time (minutes)', ylabel='Precursor Mass (Da)'>"
      ]
     },
     "execution_count": 11,
     "metadata": {},
     "output_type": "execute_result"
    },
    {
     "data": {
      "image/png": "[encoded data removed]",
      "text/plain": [
       "<Figure size 432x288 with 1 Axes>"
      ]
     },
     "metadata": {},
     "output_type": "display_data"
    }
   ],
   "source": [
    "# do some analysis\n",
    "morph_filt.plot(x='Retention Time (minutes)', y='Precursor Mass (Da)', kind='scatter')"
   ]
  },
  {
   "cell_type": "code",
   "execution_count": 12,
   "metadata": {},
   "outputs": [],
   "source": [
    "# MS Amanda files don't have a \"decoy\" column, so let's create one and then use it\n",
    "amanda['isDecoy'] = amanda['Protein Accessions'].str.split(';').apply(\n",
    "    lambda x: all(p.startswith('DECOY') for p in x))\n",
    "amanda_filt = aux.filter(amanda[amanda['Rank'] == 1], key='Weighted Probability', is_decoy='isDecoy', fdr=0.01)"
   ]
  },
  {
   "cell_type": "markdown",
   "metadata": {},
   "source": [
    "Wasn't that easy? It is also efficient, because we don't need to parse XML, and the calculations are vectorized by `pandas`.\n",
    "\n",
    "Now we have our filtered DataFrames. We can do something using the awesome `pandas` functionality. For example, let's convert these filtered PSM lists to peptide lists."
   ]
  },
  {
   "cell_type": "code",
   "execution_count": 13,
   "metadata": {},
   "outputs": [],
   "source": [
    "amanda_pep = amanda_filt.sort_values('Weighted Probability').groupby('Sequence').first()\n",
    "morph_pep = morph_filt.sort_values('Q-Value (%)').groupby('Base Peptide Sequence').first()"
   ]
  },
  {
   "cell_type": "markdown",
   "metadata": {},
   "source": [
    "That's it! Now, why don't we look at peptides present in both lists? Peace of cake for `pandas`, too:"
   ]
  },
  {
   "cell_type": "code",
   "execution_count": 14,
   "metadata": {},
   "outputs": [],
   "source": [
    "inter = amanda_pep.join(morph_pep, how='inner', lsuffix='[amanda]', rsuffix='[morpheus]')"
   ]
  },
  {
   "cell_type": "markdown",
   "metadata": {},
   "source": [
    "`inter` is now a DataFrame with all information from both tables (and that's a lot)."
   ]
  },
  {
   "cell_type": "code",
   "execution_count": 15,
   "metadata": {},
   "outputs": [
    {
     "data": {
      "text/plain": [
       "<AxesSubplot:xlabel='Amanda Score', ylabel='Morpheus Score'>"
      ]
     },
     "execution_count": 15,
     "metadata": {},
     "output_type": "execute_result"
    },
    {
     "data": {
      "image/png": "[encoded data removed]",
      "text/plain": [
       "<Figure size 432x288 with 2 Axes>"
      ]
     },
     "metadata": {},
     "output_type": "display_data"
    }
   ],
   "source": [
    "inter.plot('Amanda Score', 'Morpheus Score', kind='hexbin', gridsize=10, sharex=False)"
   ]
  },
  {
   "cell_type": "markdown",
   "metadata": {},
   "source": [
    "We will conclude this example with a reminder that if you have a piece of software that reports posterior error probabilities (PEPs), `qvalues()` and `filter()` can use them instead of relying on TDA. The usage is similar: you just provide a `pep` parameter instead of `is_decoy`. `key` is not needed in this case, too. Complete information about possible parameters can be found in the API docs."
   ]
  }
 ],
 "metadata": {
  "kernelspec": {
   "display_name": "Python 3",
   "language": "python",
   "name": "python3"
  },
  "language_info": {
   "codemirror_mode": {
    "name": "ipython",
    "version": 3
   },
   "file_extension": ".py",
   "mimetype": "text/x-python",
   "name": "python",
   "nbconvert_exporter": "python",
   "pygments_lexer": "ipython3",
   "version": "3.6.10"
  }
 },
 "nbformat": 4,
 "nbformat_minor": 1
}